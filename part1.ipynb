{
  "cells": [
    {
      "cell_type": "markdown",
      "metadata": {
        "id": "NKki_BcTpSrT"
      },
      "source": [
        "# Neuroscience \n",
        "\n",
        "To BBB: 20 คำถาม ที่ไม่ใช่การเขียนบรรยาย อาจเป็น multiple choices หรือว่าเป็น list เหมือนตัวอย่างในข้อที่ 1 ได้\n",
        "\n",
        "สำหรับอันนี้ BCC จะเขียนโปรแกรมมาตรวจคะแนนแบบอัตโนมัติ\n",
        "\n"
      ]
    },
    {
      "cell_type": "markdown",
      "source": [
        "# ส่วนที่ 1 ข้อสอบภาคบังคับ\n",
        "\n",
        "ผู้สมัครต้องทำข้อสอบในส่วนที่ 1 จำนวน 16 ข้อให้ครบทุกข้อ"
      ],
      "metadata": {
        "id": "Mc8OXL1iX_hv"
      }
    },
    {
      "cell_type": "markdown",
      "metadata": {
        "id": "bA-sz737b-rB"
      },
      "source": [
        "## Essential anatomy\n"
      ]
    },
    {
      "cell_type": "markdown",
      "metadata": {
        "id": "xbPnxrd-EAD0"
      },
      "source": [
        "#### 1.\n",
        "บริเวณใดในรูปคือสมองในส่วนของ Frontal lobe, Parietal lobe, Occipital lobe และ Temporal lobe ตามลำดับ \n",
        "\n",
        "![essebtial_anatomy](https://drive.google.com/uc?id=1cOf2Kx8Guq4tacEu3VeWghR3lAASyxvy)\n"
      ]
    },
    {
      "cell_type": "code",
      "execution_count": null,
      "metadata": {
        "id": "ABRcPnGpGgfI"
      },
      "outputs": [],
      "source": [
        "neuro_Q1_answ = []; # <- ตอบคำถามของท่านลงใน [] ที่นี่ (ตามลำดับ)\n",
        "\n",
        "#  ตัวอย่างเช่น ถ้าต้องการตอบว่า d, c, b, a -> ให้เราใส่ คำตอบเป็น neuro_Q1_answ = ['d','c','b','a']"
      ]
    },
    {
      "cell_type": "markdown",
      "metadata": {
        "id": "mx5LWsj2HMrd"
      },
      "source": [
        "## Neuroscience methods\n"
      ]
    },
    {
      "cell_type": "markdown",
      "metadata": {
        "id": "TreifaH1HcI4"
      },
      "source": [
        "#### 2.\n",
        "หากท่านต้องการศึกษาว่าสมองบริเวณ X มีความจำเป็นหรือส่งผลต่อการทำงานสมองด้านภาษาหรือไม่ ท่านจะใช้เครื่องมือใดบ้าง (ตอบได้มากกว่า 1 ข้อ)\n",
        "\n",
        "1. single neuron recording\n",
        "2. Electroencephalogram (EEG)\n",
        "3. Functional magnetic resonance imaging (fMRI)\n",
        "4. Transcranial magnetic current stimulation (TMS)\n",
        "5. Transcranial direct current stimulation (tDCS)\n",
        "6. lesion study\n"
      ]
    },
    {
      "cell_type": "code",
      "execution_count": null,
      "metadata": {
        "id": "n7PtAAwzHpym"
      },
      "outputs": [],
      "source": [
        "neuro_Q2_answ = []; # <- ตอบคำถามของท่านลงใน [] ที่นี่ โดยเฉพาะ\n",
        "\n",
        "#  ตัวอย่างเช่น ถ้าต้องการตอบว่า 2.EEG, 3.fMRI  -> ให้เราใส่ คำตอบเป็น neuro_Q3_answ = [2,3]"
      ]
    },
    {
      "cell_type": "markdown",
      "metadata": {
        "id": "jCQhrqNcI4xo"
      },
      "source": [
        "## Brain and Behavior"
      ]
    },
    {
      "cell_type": "markdown",
      "metadata": {
        "id": "JFYz2xD1I9Dk"
      },
      "source": [
        "#### 3.\n",
        "ข้อใดแสดงความสัมพันธ์ของการศึกษาเชิงพฤติกรรมและการศึกษาสัญญาณสมองด้วยเครื่องมือเช่น EEG, functional MRI, single neuron study ได้ถูกต้อง \n",
        "\n",
        "1. การศึกษาสัญญาณสมอง เป็นการศึกษาการทำงานของสมองที่เปลี่ยนไปอย่างละเอียด อาจพิจารณาทำก่อนโดยไม่ต้องรอผลการศึกษาเชิงพฤติกรรมได้\n",
        "\n",
        "2. การศึกษาเชิงพฤติกรรมและศึกษาสัญญาณสมองไปพร้อมกัน ช่วยให้ประหยัดค่าใช้จ่ายและเวลาในการเก็บข้อมูล\n",
        "\n",
        "3. การศึกษาเชิงพฤติกรรม ทำให้ทราบว่าสัญญาณสมองที่เปลี่ยนไป มีความหมายอย่างไรมากขึ้น\n",
        "\n",
        "4. การศึกษาเชิงพฤติกรรม ทำให้สามารถออกแบบการทดลอง ในการศึกษาสัญญาณสมองได้ดีขึ้น\n",
        "\n",
        "5. การศึกษาสัญญาณสมอง ช่วยให้สามารถเข้าใจกลไกทางประสาทวิทยาศาสตร์ จากผลการศึกษาเชิงพฤติกรรมได้ดีขึ้น\n"
      ]
    },
    {
      "cell_type": "code",
      "execution_count": null,
      "metadata": {
        "id": "3udhgr14JH9I"
      },
      "outputs": [],
      "source": [
        "neuro_Q3_answ = []; "
      ]
    },
    {
      "cell_type": "markdown",
      "metadata": {
        "id": "4g3-sQk7J93L"
      },
      "source": [
        "#### 4.\n",
        "จากตัวอย่างการศึกษาเหล่านี้ข้อใดเป็นการศึกษา causation (และไม่ใช่การศึกษา correlation)\n",
        "\n",
        "1. ศึกษาสมองของคนไข้หลังจากเสียชีวิต \n",
        "ว่าปัญหาเกี่ยวกับการพูดที่พบในระหว่างมีชีวิตเกิดจากความผิดปกติในสมองส่วนใด\n",
        "2. ศึกษาสมองส่วนควบคุมกล้ามเนื้อ (motor cortex) ด้วยเทคนิค fMRI ร่วมกับ TMS เพื่อดูว่าหากสมองส่วน motor cortex ได้รับการกระตุ้นด้วย TMS จะส่งผลอย่างไรต่อสัญญาณสมองใน motor cortex และต่อการเคลื่อนไหวกล้ามเนื้อ\n",
        "3. ศึกษาสัญญาณสมองด้วยเทคนิค EEG ในระหว่างที่เด็กฟังคำศัพท์เพื่อเปรียบเทียบระหว่างสัญญาณในขณะที่เด็กฟังคำศัพท์ที่เข้าใจ กับคำศัพท์ที่ไม่เข้าใจ\n",
        "4. ศึกษาสัญญาณจากเซลล์สมองในส่วนการได้ยิน (auditory cortex) ด้วยเทคนิค extracellular recording พร้อมกับใช้เทคนิค microstimulation เพื่อทดสอบว่าการกระตุ้นเซลล์สมองด้วยไฟฟ้าในระดับอ่อนจะสามารถทำให้สัตว์ทดลองได้ยินเสียงหรือไม่\n",
        "5. ศึกษาสัญญาณจากเซลล์สมองในส่วน hippocampus ด้วยเทคนิค intracellular recording ในระหว่างที่สัตว์ทดลองเคลื่อนที่ไปตามจุดต่างๆ เพื่อทดสอบว่าเซลล์ใน hippocampus มีข้อมูลเกี่ยวกับตำแหน่งของตัวสัตว์ทดลองหรือไม่\n",
        "\n"
      ]
    },
    {
      "cell_type": "code",
      "execution_count": null,
      "metadata": {
        "id": "HYwkZQ2xJ73N"
      },
      "outputs": [],
      "source": [
        "neuro_Q4_answ = []; "
      ]
    },
    {
      "cell_type": "markdown",
      "metadata": {
        "id": "pNtxEFJQb1Di"
      },
      "source": [
        "## Neural signal"
      ]
    },
    {
      "cell_type": "markdown",
      "metadata": {
        "id": "MozSWR2iNFxc"
      },
      "source": [
        "#### 5.\n",
        "สัญญาณข้อ 1,2,3 ด้านล่าง คือสัญญาณสมองใด ตามลำดับ\n",
        "\n",
        "![neural_tuning](https://drive.google.com/uc?id=1tyKQom-Pw1PZuzN_Cv1fuHf4eflmlFOM)\n",
        "\n",
        "a. single neuron recording\n",
        "\n",
        "b. Electroencephalogram (EEG)\n",
        "\n",
        "c. Functional magnetic resonance imaging (fMRI)\n",
        "\n",
        "d. Transcranial magnetic current stimulation (TMS)\n",
        "\n",
        "e. Transcranial direct current stimulation (tDCS)\n"
      ]
    },
    {
      "cell_type": "code",
      "execution_count": null,
      "metadata": {
        "id": "hd-owJ0dNZFV"
      },
      "outputs": [],
      "source": [
        "neuro_Q5_answ = []; "
      ]
    },
    {
      "cell_type": "markdown",
      "metadata": {
        "id": "WQv5zROtbyVz"
      },
      "source": [
        "## Neural tuning\n"
      ]
    },
    {
      "cell_type": "markdown",
      "metadata": {
        "id": "lm46LErbKY5R"
      },
      "source": [
        "#### 6.\n",
        "ในรูปด้านซ้ายคือ อัตราการส่งสัญญาณของ neuron1 และ neuron2 (แกนตั้ง; y) ในสมองส่วนการมองเห็น เมื่อถูกกระตุ้นเส้นแสงที่เอียงในแต่ละองศา (แกนนอน; x)\n",
        "\n",
        "![neural_tuning](https://drive.google.com/uc?id=1FnjBa7i_5FN9D6FjgfvXL2vz-y-twHS7)\n",
        "\n",
        "จากรูปทางขวา; ข้อใดคือความสัมพันธ์ระหว่างอัตราการส่งสัญญาณระหว่าง neuron1 และ neuron2 \n",
        "\n"
      ]
    },
    {
      "cell_type": "code",
      "execution_count": null,
      "metadata": {
        "id": "DF8bXTw0KpGZ"
      },
      "outputs": [],
      "source": [
        "neuro_Q6_answ = []; "
      ]
    },
    {
      "cell_type": "markdown",
      "metadata": {
        "id": "dgF8jaTabrz4"
      },
      "source": [
        "## Neural representation\n"
      ]
    },
    {
      "cell_type": "markdown",
      "metadata": {
        "id": "g-6JrOuYKzVD"
      },
      "source": [
        "#### 7. \n",
        "ข้อใดบ้างที่เป็นประโยชน์ของการวิเคราะห์สัญญาณแบบ Representational Similarity Matrix\n",
        "\n",
        "1. สามารถนำมาเปรียบเทียบระหว่างสัญญาณสมองหลายประเภท (เช่น ระหว่าง EEG, fMRI)\n",
        "2. สามารถนำมาเปรียบเทียบระหว่างสัญญาณสมองข้ามสายพันธ์ุ (เช่น ระหว่างคนและวานร) \n",
        "3. สามารถนำมาเปรียบเทียบระหว่างสัญญาณสมองและค่า activations ใน deep neural network \n",
        "4. สามารถนำมาเปรียบเทียบระหว่างการตอบสนองทางพฤติกรรมและสัญญาณสมอง\n",
        "5. ทั้งแกน x และ แกน y ของ matrix คือ สิ่งกระตุ้นชนิดต่างๆ \n",
        "6. แกน x ของ matrix คือ สิ่งกระตุ้นชนิดต่างๆ และ แกน y ของ matrix คือ เวลา\n"
      ]
    },
    {
      "cell_type": "code",
      "execution_count": null,
      "metadata": {
        "id": "nEwK15DmLB8P"
      },
      "outputs": [],
      "source": [
        "neuro_Q7_answ = []; "
      ]
    },
    {
      "cell_type": "markdown",
      "metadata": {
        "id": "U9C0HLk_botH"
      },
      "source": [
        "## Computational modeling "
      ]
    },
    {
      "cell_type": "markdown",
      "metadata": {
        "id": "rbqpMhCBLL_8"
      },
      "source": [
        "#### 8. \n",
        "จุดมุ่งหมายหลักของการสร้างโมเดลคณิตศาสตร์คืออะไร\n",
        "\n",
        "1. เพื่อสร้างระบบปัญญาประดิษฐ์ที่มีความฉลาด\n",
        "2. เพื่อสร้างทฤษฎีที่สามารถนำไปทดสอบและสรุปพฤติกรรมในธรรมชาติได้อย่างแม่นยำชัดเจน\n",
        "3. เพื่อใช้คณิตศาสตร์อธิบายธรรมชาติด้วยความแม่นยำชัดเจน\n",
        "4. เพื่อให้คนสร้างทฤษฏีแลดูฉลาด\n",
        "\n"
      ]
    },
    {
      "cell_type": "code",
      "execution_count": null,
      "metadata": {
        "id": "zE0JAjOKLL_-"
      },
      "outputs": [],
      "source": [
        "neuro_Q8_answ = []; "
      ]
    },
    {
      "cell_type": "markdown",
      "metadata": {
        "id": "gOVetVRWMHYf"
      },
      "source": [
        "จงใช้ชุดคำถามดังต่อไปนี้ ตอบคำถามข้อ 9-11\n",
        "\n",
        "1. การพยายามหาคำตอบว่า neuron ตัวหนึ่งมีค่าเฉลี่ยของอัตราความถี่การส่งสัญญาณเท่าไร มีรูปแบบของความแปรปรวนเป็นอย่างไร\n",
        "2. การพยายามหาคำตอบว่า มีปัจจัยอะไรบ้างที่ส่งผลต่อพฤติกรรมการส่งสัญญาณ เช่น ความเร็วของการไหลเข้าออกของประจุต่าง ๆ ต้องปรับเปลี่ยนปัจจัยต่างๆนั้นอย่างไรจึงทำให้เกิดแบบจำลองของนิวรอนที่มีพฤติกรรมการส่งสัญญาณที่สมจริงที่สุด \n",
        "3. การพยายามหาคำตอบว่า การที่ neuron มีพฤติกรรมการส่งสัญญาณอย่างที่มันเป็น ส่งผลอย่างไรต่อปริมาณข้อมูล (information) ที่ neuron ตัวนั้นสามารถส่งไปยัง neuron ตัวต่อไปได้\n",
        "4. การพยายามอธิบายว่าประชากร neuron กลุ่มหนึ่งมีลักษณะรูปร่างกี่แบบ มีความยาวของ axon ประมาณเท่าใด อยู่ในตำแหน่งใดในสมอง \n"
      ]
    },
    {
      "cell_type": "markdown",
      "metadata": {
        "id": "OD7fngeDMX3c"
      },
      "source": [
        "#### 9. \n",
        "ข้อใดบ้างที่เป็นคำถามการปั้น model ชนิด “what?” \n"
      ]
    },
    {
      "cell_type": "code",
      "execution_count": null,
      "metadata": {
        "id": "2-h9fXMgMSsH"
      },
      "outputs": [],
      "source": [
        "neuro_Q9_answ = []; "
      ]
    },
    {
      "cell_type": "markdown",
      "metadata": {
        "id": "otFTnPnNMd5m"
      },
      "source": [
        "#### 10. \n",
        "ข้อใดบ้างที่เป็นคำถามการปั้น model ชนิด how?” \n"
      ]
    },
    {
      "cell_type": "code",
      "execution_count": null,
      "metadata": {
        "id": "eljra9LTMnEQ"
      },
      "outputs": [],
      "source": [
        "neuro_Q10_answ = []; "
      ]
    },
    {
      "cell_type": "markdown",
      "metadata": {
        "id": "kRbRWckRMi4a"
      },
      "source": [
        "#### 11. \n",
        "ข้อใดบ้างที่เป็นคำถามการปั้น model ชนิด why?” \n"
      ]
    },
    {
      "cell_type": "code",
      "execution_count": null,
      "metadata": {
        "id": "GObFFpDuMoCs"
      },
      "outputs": [],
      "source": [
        "neuro_Q11_answ = []; \n"
      ]
    },
    {
      "cell_type": "markdown",
      "metadata": {
        "id": "Jh4EI4SrcEJR"
      },
      "source": [
        "## Machine learning & AI\n",
        "\n"
      ]
    },
    {
      "cell_type": "markdown",
      "metadata": {
        "id": "bOFYiiFPcEJm"
      },
      "source": [
        "#### 12. \n",
        "การสอนโมเดล neural network ที่เราใช้ dataset ที่มีเฉลยสำหรับทุกจุดข้อมูลใน dataset มีชื่อเรียกว่าอะไร\n",
        "1. Supervised learning\n",
        "2. Unsupervised learning\n",
        "3. Semi-supervised learning\n",
        "4. Reinforcement learning\n",
        "5. ไม่มีข้อใดถูก\n",
        "\n"
      ]
    },
    {
      "cell_type": "code",
      "execution_count": null,
      "metadata": {
        "id": "BJ7ITNQlcEJn"
      },
      "outputs": [],
      "source": [
        "neuro_Q12_answ = []; "
      ]
    },
    {
      "cell_type": "markdown",
      "metadata": {
        "id": "Szcpdzc3cao1"
      },
      "source": [
        "#### 13. \n",
        "\n",
        "แพทย์ประสาทวิทยาต้องการสร้างโมเดลการทำนายว่าผู้ป่วยโรคหลอดเลือดสมองที่เข้ารับการรักษาที่ห้องฉุกเฉินจะเสียชีวิตหรือรอดชีวิต โดยทำนายจากการใช้ข้อมูลทั่วไป เช่น อายุ เพศ โรคประจำตัว และข้อมูลสัญญาณชีพ เช่น ระดับความดันโลหิตสูง จากฐานข้อมูลจำนวน 200,000 ราย\n",
        "\n",
        "โมเดลใดต่อไปนี้ คือ ทางเลือกที่เหมาะสมกับเป้าหมายน้อยที่สุด\n",
        "\n",
        "1. Logistic regression\n",
        "2. Linear regression\n",
        "3. Support vector machine\n",
        "4. Deep neural network \n",
        "5. Decision tree \n",
        "\n"
      ]
    },
    {
      "cell_type": "code",
      "execution_count": null,
      "metadata": {
        "id": "HPKbIiIhciuR"
      },
      "outputs": [],
      "source": [
        "neuro_Q13_answ = []; "
      ]
    },
    {
      "cell_type": "markdown",
      "metadata": {
        "id": "wsPP_-facvqy"
      },
      "source": [
        "#### 14. \n",
        "ในการสร้างโมเดล convolutional neural network มาตรฐาน (ดังภาพ) มีความเกี่ยวข้องกับ concept หลักทาง neuroscience ข้อใดบ้างต่อไปนี้ \n",
        "\n",
        "![cnn](https://drive.google.com/uc?id=1VBuniaDlf3iW699nDU9WNgUttHI6_rlb)\n",
        "\n",
        "1. Receptive field (การที่ neuron ตัวหนึ่ง รับสัญญาณมาจากบริเวณเล็กๆเพียงบางบริเวณ)\n",
        "2. Hierarchical organization (การมีโครงสร้างแบบลำดับขั้น)\n",
        "3. Hemispheric specialization (การที่สมองด้านซ้ายและขวาทำงานต่างกัน)\n",
        "4. \"What\" and \"Where\" pathways (การที่สมองมีทั้งบริเวณที่ทำหน้าที่บอกว่าของสิ่งนี้คืออะไร และของสิ่งนี้อยู่ที่ตำแหน่งไหน)\n",
        "\n",
        "\n",
        "\n"
      ]
    },
    {
      "cell_type": "code",
      "execution_count": null,
      "metadata": {
        "id": "9TeQ16_jdMp0"
      },
      "outputs": [],
      "source": [
        "neuro_Q14_answ = []; "
      ]
    },
    {
      "cell_type": "markdown",
      "metadata": {
        "id": "xmOY741hdzKU"
      },
      "source": [
        "#### 15. \n",
        "ข้อใดเป็นเป้าหมายหลักของโมเดลประเภท Reinforcement learning\n",
        "1. เพื่อแบ่งข้อมูลให้เป็นประเภทต่างๆที่กำหนด\n",
        "2. เพื่อทำนายผลของอนาคตจากข้อมูลปัจจุบัน\n",
        "3. เพื่อให้ agent เรียนรู้การออก actions ที่เหมาะสมในสภาวะที่อยู่ (environment)\n",
        "4. เพื่อใช้ในการ optimize ฟังก์ชั่นต้นทุน (cost function)\n",
        "\n",
        "\n",
        "\n",
        "\n",
        "\n"
      ]
    },
    {
      "cell_type": "code",
      "execution_count": null,
      "metadata": {
        "id": "gfxwhUx7dzKW"
      },
      "outputs": [],
      "source": [
        "neuro_Q15_answ = []; "
      ]
    },
    {
      "cell_type": "markdown",
      "metadata": {
        "id": "r6c5iBFsdZk3"
      },
      "source": [
        "#### 16. \n",
        "ข้อใดต่อไปนี้ไม่ใช่หนึ่งใน unsupervised learning \n",
        "1. Outlier detection\n",
        "2. Regression\n",
        "3. Dimensionality reduction\n",
        "4. Clustering\n",
        "\n",
        "\n",
        "\n",
        "\n"
      ]
    },
    {
      "cell_type": "code",
      "execution_count": null,
      "metadata": {
        "id": "eYEL3QsUdkug"
      },
      "outputs": [],
      "source": [
        "neuro_Q16_answ = []; "
      ]
    },
    {
      "cell_type": "markdown",
      "source": [
        "# ส่วนที่ 2 ข้อสอบภาคสมัครใจ\n",
        "\n",
        "ข้อสอบจำนวน 4 ข้อต่อไปนี้เป็นคำถามเพิ่มเติม ผู้สมัครไม่จำเป็นต้องทำข้อสอบในส่วนนี้ครบทุกข้อก็ได้"
      ],
      "metadata": {
        "id": "UZv_73qDXmVl"
      }
    },
    {
      "cell_type": "markdown",
      "source": [
        "#### 2.1. \n",
        "บริเวณใดทำหน้าที่เกี่ยวข้องกับการมองเห็น\n",
        "\n",
        "![essebtial_anatomy](https://drive.google.com/uc?id=1cOf2Kx8Guq4tacEu3VeWghR3lAASyxvy)"
      ],
      "metadata": {
        "id": "KLFmAk0bZYT2"
      }
    },
    {
      "cell_type": "code",
      "source": [
        "neuro_Q2_1_answ = []; # <- ตอบคำถามของท่านลงใน [] ที่นี่\n",
        "\n",
        "#  ตัวอย่างเช่น ถ้าต้องการตอบว่า a -> ให้เราใส่ คำตอบเป็น neuro_Q2_answ = ['a']"
      ],
      "metadata": {
        "id": "bz-7St_4ZgzR"
      },
      "execution_count": null,
      "outputs": []
    },
    {
      "cell_type": "markdown",
      "metadata": {
        "id": "TrEIyIBbIEG5"
      },
      "source": [
        "#### 2.2.\n",
        "หากท่านต้องการศึกษาว่า neuron ในสมองส่วนของการได้ยิน มีการตอบสนองต่อเสียงที่จำเพาะรูปแบบใด ท่านจะใช้เครื่องมือใดบ้าง (ตอบได้มากกว่า 1 ข้อ)\n",
        "\n",
        "1. single neuron recording\n",
        "2. Electroencephalogram (EEG)\n",
        "3. Functional magnetic resonance imaging (fMRI)\n",
        "4. Transcranial magnetic current stimulation (TMS)\n",
        "5. Transcranial direct current stimulation (tDCS)\n",
        "6. lesion study\n",
        "\n"
      ]
    },
    {
      "cell_type": "code",
      "execution_count": null,
      "metadata": {
        "id": "LtERUCfGHpq1"
      },
      "outputs": [],
      "source": [
        "neuro_Q2_2_answ = []; "
      ]
    },
    {
      "cell_type": "markdown",
      "metadata": {
        "id": "Syjz-v3MIXgQ"
      },
      "source": [
        "#### 2.3.\n",
        "หากท่านต้องการทราบว่าสมองมนุษย์ตำแหน่งใดบ้างที่เกี่ยวข้องกับการแยกแยะระหว่างรูปภาพน้องหมาและน้องแมว เครื่องมือใดจะสามารถตอบคำถามนี้ได้ดีที่สุด\n",
        "\n",
        "1. single neuron recording\n",
        "2. Electroencephalogram (EEG)\n",
        "3. Functional magnetic resonance imaging (fMRI)\n",
        "4. Transcranial magnetic current stimulation (TMS)\n",
        "5. lesion study\n",
        "\n"
      ]
    },
    {
      "cell_type": "code",
      "execution_count": null,
      "metadata": {
        "id": "XiDasHvJIZBK"
      },
      "outputs": [],
      "source": [
        "neuro_Q2_3_answ = []; "
      ]
    },
    {
      "cell_type": "markdown",
      "metadata": {
        "id": "1ffOWIDoIpLe"
      },
      "source": [
        "#### 2.4.\n",
        "หากท่านต้องการทราบว่าสมองมนุษย์ใช้เวลานานเท่าไรในการแยกแยะระหว่างรูปภาพน้องหมาและน้องแมว เครื่องมือใดจะสามารถตอบคำถามนี้ได้ดีที่สุด\n",
        "\n",
        "1. single neuron recording\n",
        "2. Electroencephalogram (EEG)\n",
        "3. Functional magnetic resonance imaging (fMRI)\n",
        "4. Transcranial magnetic current stimulation (TMS)\n",
        "5. lesion study\n"
      ]
    },
    {
      "cell_type": "code",
      "execution_count": null,
      "metadata": {
        "id": "Yof-4w-rIwux"
      },
      "outputs": [],
      "source": [
        "neuro_Q2_4_answ = [];"
      ]
    },
    {
      "cell_type": "markdown",
      "source": [
        "# Coding\n",
        "\n",
        "ข้อสอบส่วนนี้ทดสอบความสามารถเบื้องต้นในการเขียนโปรแกรมด้วยภาษา Python มีข้อสอบทั้งหมด 7 ข้อ โดยไม่ได้เรียงลำดับความยากของโจทย์\n",
        "\n",
        "สำหรับผู้ที่ต้องการทบทวนหรือเรียนรู้การเขียนโปรแกรม Python สามารถศึกษาจากคอร์สออนไลน์ต่าง ๆ ได้ เช่น [คอร์ส Intro to Programming](https://www.kaggle.com/learn/intro-to-programming) และ [คอร์ส Python](https://www.kaggle.com/learn/python) ของ Kaggle \n",
        "\n",
        "ทีมงานอนุญาตให้ผู้เข้าสอบสามารถเข้าเรียนรู้คอร์สเหล่านี้ในช่วงระยะเวลาการทำข้อสอบได้\n",
        "\n",
        "**สำคัญ** \n",
        "\n",
        "1.   ตรวจสอบให้มั่นใจว่าเราสามารถรันทั้งไฟล์ (เช่น การกด tab ที่ชื่อว่า Runtime -> Restart and run all) ได้โดยไม่ติด error ใด ๆ \n",
        "\n",
        "    *   ถ้าหากพบ error ที่ cell ไหน cell นั้นและ cell หลังจากนั้นทั้งหมด จะได้รับคะแนนเป็น 0 ทันที\n",
        "    *   error ในที่นี้ รวมถึง ModuleNotFoundError ด้วย ดังนั้น อย่าลืม import modules ที่ใช้มาด้วย\n",
        "\n",
        "2.   ในข้อสอบนี้ เราจะเรียก row บนสุดว่า row ที่ 0 และ column ซ้ายสุดว่า column ที่ 0\n",
        "\n",
        "\n"
      ],
      "metadata": {
        "id": "IGJqkskwCpLU"
      }
    },
    {
      "cell_type": "markdown",
      "source": [
        "# รันคำสั่งใน cell ต่อไป เพื่อเตรียมตัวทำข้อสอบ"
      ],
      "metadata": {
        "id": "fcfhVSDBCyEz"
      }
    },
    {
      "cell_type": "code",
      "source": [
        "import numpy as np\n",
        "import os"
      ],
      "metadata": {
        "id": "jIdrBADPCtqt"
      },
      "execution_count": null,
      "outputs": []
    },
    {
      "cell_type": "markdown",
      "source": [
        "# ตัวอย่างโจทย์และตัวอย่างคำตอบ\n",
        "\n",
        "**ตัวอย่างโจทย์ข้อที่ 1** จงเขียนฟังก์ชันชื่อว่า `test_part0` ที่ไม่รับ input และให้ output ออกมาเป็น string ที่เขียนว่า \"BCC\" เสมอ"
      ],
      "metadata": {
        "id": "mh8KkgO86Mxe"
      }
    },
    {
      "cell_type": "code",
      "source": [
        "# ตัวอย่างคำตอบที่ถูกต้อง\n",
        "def test_part0():\n",
        "    return \"BCC\""
      ],
      "metadata": {
        "id": "UIvyh3aB6MPx"
      },
      "execution_count": null,
      "outputs": []
    },
    {
      "cell_type": "code",
      "source": [
        "# ตัวอย่างคำตอบที่ถูกต้อง\n",
        "def test_part0():\n",
        "    output_string = \"BCC\"\n",
        "    return output_string"
      ],
      "metadata": {
        "id": "nt89WLUK8LJa"
      },
      "execution_count": null,
      "outputs": []
    },
    {
      "cell_type": "code",
      "source": [
        "# ตัวอย่างคำตอบที่ผิด: ผิดเนื่องจากไม่ return ค่าออกมา\n",
        "def test_part0():\n",
        "    output_string = \"BCC\""
      ],
      "metadata": {
        "id": "N6yD9hcq8LOY"
      },
      "execution_count": null,
      "outputs": []
    },
    {
      "cell_type": "code",
      "source": [
        "# ตัวอย่างคำตอบที่ผิด: ผิดเนื่องจากไม่ return ค่าออกมา\n",
        "def test_part0():\n",
        "    print(\"BCC\")"
      ],
      "metadata": {
        "id": "3ipbXnCuV2Jt"
      },
      "execution_count": null,
      "outputs": []
    },
    {
      "cell_type": "code",
      "source": [
        "# ตัวอย่างคำตอบที่ผิด: ผิดเนื่องจากตั้งชื่อฟังก์ชันไม่ถูกต้อง\n",
        "def test_part1():\n",
        "    output_string = \"BCC\"\n",
        "    return output_string"
      ],
      "metadata": {
        "id": "ypaRH3FS8LVZ"
      },
      "execution_count": null,
      "outputs": []
    },
    {
      "cell_type": "markdown",
      "source": [
        "**ตัวอย่างโจทย์ข้อที่ 2** จงสร้างตัวแปรชื่อ `X_part0` ที่เป็น numpy array 2 มิติที่มีหน้าตาแบบนี้\n",
        "\n",
        "$ \\left[\\begin{array}{ccc}\n",
        "1 & 0 \\\\\n",
        "0 & 1\n",
        "\\end{array}\\right]$"
      ],
      "metadata": {
        "id": "1MX0n1hl7xYV"
      }
    },
    {
      "cell_type": "code",
      "source": [
        "# ตัวอย่างคำตอบที่ถูก\n",
        "X_part0 = np.eye(2,2)"
      ],
      "metadata": {
        "id": "4pIrQ74K8ToS"
      },
      "execution_count": null,
      "outputs": []
    },
    {
      "cell_type": "code",
      "source": [
        "# ตัวอย่างคำตอบที่ถูก\n",
        "X_part0 = np.zeros((2,2))\n",
        "X_part0[0,0] = 1\n",
        "X_part0[1,1] = 1"
      ],
      "metadata": {
        "id": "XbUPnlBQ8ZcL"
      },
      "execution_count": null,
      "outputs": []
    },
    {
      "cell_type": "code",
      "source": [
        "# ตัวอย่างคำตอบที่ถูก\n",
        "X_part0 = np.array([[1., 0.], [0., 1.]])"
      ],
      "metadata": {
        "id": "CZIV0-bp9A7m"
      },
      "execution_count": null,
      "outputs": []
    },
    {
      "cell_type": "code",
      "source": [
        "# ตัวอย่างคำตอบที่ถูก\n",
        "X_part0 = np.eye(2,2)\n",
        "print(X_part0) # ไม่มีความจำเป็นต้อง print ออกมาให้ดู แต่ถ้าเขียนไว้ ก็ไม่ผิดอะไร"
      ],
      "metadata": {
        "id": "EhQFlifY9ksM"
      },
      "execution_count": null,
      "outputs": []
    },
    {
      "cell_type": "code",
      "source": [
        "# ตัวอย่างคำตอบที่ผิด: ผิดเนื่องจากไม่ได้มีการสร้างตัวแปรชื่อ X_part0 ออกมาเก็บค่า\n",
        "print(np.eye(2,2))"
      ],
      "metadata": {
        "id": "zKz5eoQl8xq4"
      },
      "execution_count": null,
      "outputs": []
    },
    {
      "cell_type": "code",
      "source": [
        "# ตัวอย่างคำตอบที่ผิด: ผิดเนื่องจากใช้ชื่อตัวแปรผิด\n",
        "X_part3 = np.eye(2,2)"
      ],
      "metadata": {
        "id": "GQla_6hq9ab-"
      },
      "execution_count": null,
      "outputs": []
    },
    {
      "cell_type": "markdown",
      "source": [
        "# เริ่มต้นแบบทดสอบ\n",
        "\n",
        "---"
      ],
      "metadata": {
        "id": "_5OSa59H64RR"
      }
    },
    {
      "cell_type": "markdown",
      "source": [
        "# ข้อที่ 1\n",
        "\n",
        "เขียน function ชื่อ `d_three_q1` ซึ่งมี input เป็น integer n  \n",
        "ซึ่ง function นี้จะประเมินว่าจำนวนเต็ม n นั้นเป็นเลขที่หารด้วย 3 หรือ 7 ลงตัวหรือไม่ \n",
        "\n",
        "* ถ้าเลขนั้นหารด้วย 3 ลงตัว ให้ output คำตอบออกมาเป็น string ที่เขียนว่า \"ทำแล้ว\" (เช่น การ return ค่าออกมาเป็น \"ทำแล้ว\")\n",
        "* ถ้าเลขนั้นหารด้วย 7 ลงตัว ให้ output คำตอบออกมาเป็น string ที่เขียนว่า  \"ทำอยู่\" \n",
        "* ถ้าเลขนั้นหารด้วยทั้ง 3 และ 7 ลงตัว ให้ output คำตอบออกมาเป็น string ที่เขียนว่า  \"ทำต่อ\" \n",
        "* นอกนั้นให้ output คำตอบออกมาเป็น string ที่เขียนว่า \"เลิกทำเถอะ!\"\n",
        "\n",
        "**หมายเหตุ** ทีมงานจะตรวจข้อสอบข้อนี้โดยใช้ integer ทีละหนึ่งตัว มาทดสอบฟังก์ชันของผู้เข้าทดสอบ จะไม่มีการใช้ตัวแปร type อื่น มาทดสอบ (เช่น boolean) หรือจะไม่ใช้ data structure แบบอื่น ๆ เข้ามา (เช่น list, array) ดังนั้นผู้เข้าสอบไม่มีความจำเป็นจะต้องเขียนคำสั่งสำหรับเช็คสิ่งเหล่านี้ แต่ในการทำงานจริง การเช็คสิ่งเหล่านี้เป็นสิ่งที่ควรทำ"
      ],
      "metadata": {
        "id": "ye5ccDAKHNY0"
      }
    },
    {
      "cell_type": "code",
      "source": [
        "# ผู้เข้าสอบสามารถแก้โค้ดในส่วนนี้ได้\n",
        "def d_three_q1(n):\n",
        "    \n",
        "    return \"ไม่ทำดีกว่า\""
      ],
      "metadata": {
        "id": "y_oj9UOVHMvI"
      },
      "execution_count": null,
      "outputs": []
    },
    {
      "cell_type": "markdown",
      "source": [
        "# ข้อที่ 2\n",
        "\n",
        "จงเขียนฟังก์ชันที่มีชื่อว่า `modify_matrix_A_q2` ที่รับ input เป็น numpy array 2 มิติ ที่มีชื่อว่า `A` แล้ว output numpy array 2 มิติออกมา\n",
        "\n",
        "* output array จะเกิดจากการเอา input array มาแก้ค่าโดยการเปลี่ยนค่าในตำแหน่ง row ที่เป็นเลขคู่ **และ** ตำแหน่ง column ที่หารสามแล้วเหลือเศษ 1 ทั้งหมด ให้มีค่าเป็น -1 \n",
        "\n",
        "**ตัวอย่าง**\n",
        "\n",
        "ถ้า $A =\\left[\\begin{array}{ccc}\n",
        "0 & 0 & 0& 0 & 0 & 0& 0\\\\\n",
        "0 & 0& 0& 0 & 0 & 0& 0 \\\\\n",
        "0 & 0 & 0& 0 & 0 & 0& 0\n",
        "\\end{array}\\right]$ เมื่อทำตามคำสั่งด้านบนแล้วจะได้ output ออกมาเป็น\n",
        "\n",
        "$ \\left[\\begin{array}{ccc}\n",
        "0 & -1 & 0& 0 & -1 & 0& 0\\\\\n",
        "0 & 0 & 0& 0 & 0 & 0& 0 \\\\\n",
        "0 & -1 & 0& 0 & -1 & 0& 0\n",
        "\\end{array}\\right]$"
      ],
      "metadata": {
        "id": "HtuzkZ1VokQc"
      }
    },
    {
      "cell_type": "code",
      "source": [
        "def modify_matrix_A_q2(A): # ห้ามแก้โค้ดบรรทัดนี้\n",
        "    \n",
        "    # ผู้เข้าสอบสามารถแก้โค้ดในส่วนนี้ได้\n",
        "    A_modified = 0\n",
        "    return A_modified\n"
      ],
      "metadata": {
        "id": "ExTrhTEaluFO"
      },
      "execution_count": null,
      "outputs": []
    },
    {
      "cell_type": "markdown",
      "source": [
        "# ข้อที่ 3\n",
        "\n",
        "จงสร้าง numpy array สองมิติที่ชื่อว่า`B_q3` ขนาด $5 \\times 12$ โดยที่สมาชิกในตำแหน่ง row ที่ $i$ และ column ที่ $j$ มีค่าเท่ากับ $4i - j$\n",
        "\n",
        "**ตัวอย่าง** มุมซ้ายบนของ `B_q3` (row ที่ 0 และ column ที่ 0) จะมีค่าเป็น 0 ในขณะที่มุมขวาบนของ `B_q3` (row ที่ 0 และ column ที่ 11) จะมีค่าเป็น -11\n",
        "\n",
        "**ความท้าทาย** ถึงแม้ว่าเราสามารถเขียนโปรแกรมที่สร้าง matrix นี้ได้โดยไม่ต้องพึ่งพาการใช้ loop แต่ทีมงานอนุญาตให้ใช้ loop ได้"
      ],
      "metadata": {
        "id": "_-jcJ41nomys"
      }
    },
    {
      "cell_type": "code",
      "source": [
        "# ผู้เข้าสอบสามารถแก้โค้ดในส่วนนี้ได้\n",
        "B_q3 = 0\n"
      ],
      "metadata": {
        "id": "1AcySBkXo90_"
      },
      "execution_count": null,
      "outputs": []
    },
    {
      "cell_type": "markdown",
      "source": [
        "# ข้อที่ 4\n",
        "\n",
        "จงสร้างฟังก์ชันชื่อว่า `compute_basic_stats_q4` ที่รับ input เป็น list ของจำนวนเต็ม แล้ว output ตัวเลขออกมา 3 ตัว\n",
        "\n",
        "\n",
        "1.   ค่าเฉลี่ย (mean) ของตัวเลขทั้งหมดใน list\n",
        "2.   ค่า median ของตัวเลขทั้งหมดใน list\n",
        "3.   ค่าต่ำสุด คูณ ด้วยค่าสูงสุดของตัวเลขใน list\n",
        "\n",
        "**ตัวอย่าง** ถ้า input list เป็น $[0, 2, -1]$ ฟังก์ชันของเราจะ output คำตอบออกมาสามตัวคือ 0.3333, 0 และ -2\n",
        "\n",
        "**หมายเหตุ** ในการทดสอบโค้ด ทีมงานจะใส่ input เป็น list ใน 1 มิติเสมอ  ที่มี element เป็นจำนวนเต็ม จะไม่มีการใช้ data structure แบบอื่นเข้ามาทดสอบ\n",
        "\n",
        "\n",
        "\n"
      ],
      "metadata": {
        "id": "he446-A-6Fhp"
      }
    },
    {
      "cell_type": "code",
      "source": [
        "def compute_basic_stats_q4(input_list): # ห้ามแก้โค้ดบรรทัดนี้\n",
        "\n",
        "    # ผู้เข้าสอบสามารถแก้ไขโค้ดในส่วนนี้ได้\n",
        "    mean_q4 = ...\n",
        "    median_q4 = ...\n",
        "    min_max_q4 = ...\n",
        "\n",
        "    return mean_q4, median_q4, min_max_q4 # ห้ามแก้โค้ดบรรทัดนี้\n"
      ],
      "metadata": {
        "id": "_46-euz9AtMT"
      },
      "execution_count": null,
      "outputs": []
    },
    {
      "cell_type": "markdown",
      "source": [
        "# ข้อที่ 5\n",
        "\n",
        "จงเขียนฟังก์ชันที่มีชื่อว่า `compute_prism_volume_q5` ที่รับ input 2 ตัว ประกอบด้วย `cross_area` และ `length` โดยจะ output ค่า volume ของ prism ออกมาโดยการใช้สูตร V = `cross_area` x `length`"
      ],
      "metadata": {
        "id": "8wCCvjxiE028"
      }
    },
    {
      "cell_type": "code",
      "source": [
        "def compute_prism_volume_q5(cross_area, length): # ห้ามแก้โค้ดบรรทัดนี้\n",
        "\n",
        "    return ..."
      ],
      "metadata": {
        "id": "PRdgfHCZEvOu"
      },
      "execution_count": null,
      "outputs": []
    },
    {
      "cell_type": "markdown",
      "source": [
        "# ข้อที่ 6\n",
        "\n",
        "สมมติว่าเราต้องการเขียนฟังก์ชันที่รับ input มาเป็น numpy array ใน 1 มิติ 2 ตัว ที่มีชื่อเป็น `input_array1` และ `input_array2` \n",
        "\n",
        "ฟังก์ชันนี้จะ output ค่าที่เกิดจากการเอาผลบวกของสมาชิกใน `input_array1` เริ่มต้นที่ตำแหน่งที่ 0 ไปจนถึงตำแหน่ง 5 (รวมตำแหน่งที่ 5 ด้วย) มาคูณกับ ผลบวกของสมาชิกใน `input_array2`เริ่มต้นที่ตำแหน่ง 1 ไปจนถึงตำแหน่ง 10 (รวมตำแหน่งที่ 10 ด้วย)\n",
        "\n",
        "สมมติว่ามีนักวิจัย A ได้ implement ฟังก์ชัน `combine_numbers_A_q6` ไว้ให้เราไว้ใน cell ด้านล่าง แล้วก็มีนักวิจัย B ได้ implement ฟังก์ชัน `combine_numbers_B_q6` ที่เรียกใช้ `combine_numbers_A_q6` ของนักวิจัย A\n",
        "\n",
        "**คำสั่ง** จงตรวจสอบดูว่าฟังก์ชันของนักวิจัย B ที่ชื่อว่า `combine_numbers_B_q6` ทำหน้าที่ตรงกับที่เราต้องการหรือไม่\n",
        "\n",
        "\n",
        "*   ถ้าเกิดว่าทำหน้าที่ได้ถูกต้องแล้ว ผู้เข้าทดสอบจะไม่ต้องทำอะไรกับโจทย์ข้อนี้ (ไปทำโจทย์ข้ออื่น ต่อไปได้เลย)\n",
        "*   ถ้าเกิดว่าทำหน้าที่ได้ไม่ถูกต้อง ขอให้ผู้เข้าทดสอบแก้ฟังก์ชัน `combine_numbers_B_q6` โดยมีข้อจำกัดดังนี้\n",
        "    * สิ่งที่ฟังก์ชัน `combine_numbers_B_q6` output ออกมา จะต้องเป็นค่าที่ output มาจากการเรียกใช้ `combine_numbers_A_q6` เท่านั้น\n",
        "\n",
        "**ตัวอย่าง**\n",
        "ถ้า `input_array1` เป็น $[1,2,3,4,5,6,7,8]$ และ `input_array2` เป็น $[-5,-4,-3,-2,-1,0,1,2,3,4,5,6,7,8]$ output ที่ได้จาก `combined_numbers_B_q6` ควรจะมีค่าเป็น $(1+2+3+4+5+6)(-4 -3 -2 -1 + 0 + 1 + 2 + 3 + 4 + 5)=21 * 5 = 105$"
      ],
      "metadata": {
        "id": "U4yetyrGaGuu"
      }
    },
    {
      "cell_type": "code",
      "source": [
        "# ห้ามแก้โค้ดของฟังก์ชันนี้    \n",
        "def combine_numbers_A_q6(mat1, mat2, start1, end1, start2, end2, option=True):\n",
        "    sum1 = mat1[start1:end1 + 1].sum()\n",
        "    sum2 = mat2[start2:end2].sum()\n",
        "    \n",
        "    if option:\n",
        "      return sum1 + sum2\n",
        "    else:\n",
        "      return sum1 * sum2\n",
        "\n",
        "def combine_numbers_B_q6(input_array1, input_array2): # ห้ามแก้โค้ดบรรทัดนี้\n",
        "\n",
        "    output_number = combine_numbers_A_q6(input_array2, input_array1, 0, 5, 0, 10) # สามารถแก้โค้ดบรรทัดนี้ได้บรรทัดเดียว และห้ามเติมโค้ดในบรรทัดอื่น\n",
        "\n",
        "    return output_number # ห้ามแก้โค้ดบรรทัดนี้"
      ],
      "metadata": {
        "id": "zF_pgTDKaGSn"
      },
      "execution_count": null,
      "outputs": []
    },
    {
      "cell_type": "markdown",
      "source": [
        "# ข้อที่ 7\n",
        "\n",
        "โค้ดด้านล่างนี้ ใช้สร้าง folder ชื่อ experiment ที่มีโครงสร้างดังต่อไปนี้\n",
        "\n",
        "เริ่มต้นจากการรันโค้ดด้านล่างนี้ดู\n",
        "```\n",
        "-experiment\n",
        "|--A\n",
        "|  |--0.log\n",
        "|  |--0.index\n",
        "|  |--1.log\n",
        "|  |--1.index\n",
        "|    ...\n",
        "|  |--2999.log\n",
        "|  |--2999.index\n",
        "|--B\n",
        "|  |--0.log\n",
        "|  |--0.index\n",
        "|  |--1.log\n",
        "|  |--1.index\n",
        "|    ...\n",
        "|  |--2999.log\n",
        "|  |--2999.index\n",
        "|\n",
        "...\n",
        "```\n"
      ],
      "metadata": {
        "id": "uDoD61tZo-M_"
      }
    },
    {
      "cell_type": "code",
      "source": [
        "for i in ['experiment/A', 'experiment/B', 'experiment/C', 'experiment/D', 'experiment/E']:\n",
        "  try:\n",
        "    os.makedirs(i + '/')  \n",
        "  except: \n",
        "    pass\n",
        "  for j in range(3000):\n",
        "    file = open(i + '/' +str(j) + '.log', 'wb')\n",
        "    file.close()\n",
        "    file = open(i + '/' +str(j) + '.index', 'wb')\n",
        "    file.close()"
      ],
      "metadata": {
        "id": "7fnl1O0SpH2S"
      },
      "execution_count": null,
      "outputs": []
    },
    {
      "cell_type": "markdown",
      "source": [
        "**คำสั่ง** จงเขียนฟังก์ชันที่มีชื่อว่า `count_files_q7` ที่ไม่รับ input และจะ output จำนวนไฟล์ทั้งหมดใน folder experiment ที่สร้างขึ้น (รวมถึงภายใน sub-folders ทั้งหมด) ที่ตรงกับเงื่อนไขทั้งหมดนี้\n",
        "1. อยู่ใน folder ที่มีชื่อเป็นสระในภาษาอังกฤษ (A, E, I, O ,U)\n",
        "2. เป็น file นามสกุล .index\n",
        "3. เป็น file ที่มีชื่อขึ้นต้นด้วยเลข 2 และลงท้ายด้วย 05"
      ],
      "metadata": {
        "id": "kYY3KITupJfx"
      }
    },
    {
      "cell_type": "code",
      "source": [
        "# สามารถแก้โค้ดส่วนนี้ได้\n",
        "def count_files_q7():\n",
        "    count = 0\n",
        "    return count"
      ],
      "metadata": {
        "id": "6KjpGAumikwc"
      },
      "execution_count": null,
      "outputs": []
    }
  ],
  "metadata": {
    "colab": {
      "provenance": [],
      "toc_visible": true,
      "collapsed_sections": [
        "mh8KkgO86Mxe",
        "ye5ccDAKHNY0",
        "HtuzkZ1VokQc",
        "_-jcJ41nomys",
        "he446-A-6Fhp",
        "8wCCvjxiE028",
        "U4yetyrGaGuu"
      ]
    },
    "kernelspec": {
      "display_name": "Python 3 (ipykernel)",
      "language": "python",
      "name": "python3"
    },
    "language_info": {
      "codemirror_mode": {
        "name": "ipython",
        "version": 3
      },
      "file_extension": ".py",
      "mimetype": "text/x-python",
      "name": "python",
      "nbconvert_exporter": "python",
      "pygments_lexer": "ipython3",
      "version": "3.10.8"
    }
  },
  "nbformat": 4,
  "nbformat_minor": 0
}
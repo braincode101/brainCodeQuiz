{
  "nbformat": 4,
  "nbformat_minor": 0,
  "metadata": {
    "colab": {
      "provenance": []
    },
    "kernelspec": {
      "name": "python3",
      "display_name": "Python 3"
    },
    "language_info": {
      "name": "python"
    }
  },
  "cells": [
    {
      "cell_type": "markdown",
      "source": [
        "# แบบทดสอบชุดนี้ทดสอบทักษะการเขียนโปรแกรมสำหรับสำรวจข้อมูลเบื้องต้น โดยใช้ข้อมูล Magnetic Resonance Imaging (MRI) ซึ่งเป็นภาพถ่ายทางการแพทย์\n",
        "\n",
        "ข้อกำหนดเบื้องต้น\n",
        "1.  ผู้เข้าทดสอบสามารถแก้ข้อมูลใน cell ที่มี comments เขียนไว้ว่า **\"ผู้เข้าทดสอบสามารถแก้โค้ดใน cell นี้ได้\"** เท่านั้น\n",
        "2.  ผู้เข้าทดสอบควรเขียน comments กำกับไว้ เพื่อให้อ่านสามารถเข้าใจโค้ดที่เขียนมาได้ โดยเขียนเป็นภาษาไทยหรือภาษาอังกฤษก็ได้\n",
        "3.  อาจมีหลายวิธีที่สามารถใช้แก้ปัญหาแบบทดสอบได้ ผู้เข้าทดสอบสามารถเลือกใช้วิธีใดก็ได้\n",
        "\n",
        "\n",
        "ในการตรวจให้คะแนน มีรายละเอียดเบื้องต้นดังนี้\n",
        "\n",
        "1.  ให้คะแนนตามความถูกต้องของคำตอบ\n",
        "2.  ถ้าหากโค้ดในส่วนใดรันไม่ได้ หรือมี error จะได้คะแนนในส่วนนั้นเป็น 0 ทันที\n",
        "3.  ผู้ตรวจข้อสอบอาจให้คะแนนเพิ่ม (extra credits) เล็กน้อย ในกรณีที่คำตอบของผู้เข้าทดสอบเป็นการเขียนโปรแกรมอย่างสร้างสรรค์และมีประสิทธิภาพเป็นพิเศษ\n",
        "4.  การเขียนโค้ดที่เข้าใจง่าย เช่น มีการเขียน comments, มีการใช้ชื่อ variable ที่เข้าใจง่าย ก็เป็นทักษะที่สำคัญ ซึ่งจะถูกนำมาพิจารณาเวลาตรวจให้คะแนน\n",
        "\n",
        "**หมายเหตุ** ผู้เข้าทดสอบควรผ่านการเรียนรู้ [เนื้อหาใน Brain Building Blocks](https://braincode101.github.io/vdo.html) มาแล้ว โดยเฉพาะ Session ที่ 6 และ 7\n",
        "\n"
      ],
      "metadata": {
        "id": "TVYvVzFp3WvE"
      }
    },
    {
      "cell_type": "markdown",
      "source": [
        "Part 1: Data Exploration\n",
        "---"
      ],
      "metadata": {
        "id": "NTFgFaEDYOIk"
      }
    },
    {
      "cell_type": "markdown",
      "source": [
        "Import modules ที่สำคัญเบื้องต้น"
      ],
      "metadata": {
        "id": "CVOUtQSY42KX"
      }
    },
    {
      "cell_type": "code",
      "execution_count": null,
      "metadata": {
        "id": "OueZQslvhImd"
      },
      "outputs": [],
      "source": [
        "import numpy as np\n",
        "import matplotlib.pyplot as plt"
      ]
    },
    {
      "cell_type": "markdown",
      "source": [
        "ทำการ download ข้อมูล MRI ซึ่งจะเป็นไฟล์ `images.npy` กับ `sensor_sens.npy`\n",
        "\n",
        "ข้อมูลนี้เป็นข้อมูลภาพสมองที่เก็บมาจากเครื่อง MRI โดยเครื่องจะทำการเก็บข้อมูลภาพสมองโดยใช้ sensors ทั้งหมด 32 ตัว"
      ],
      "metadata": {
        "id": "RMxZ4OIv4z56"
      }
    },
    {
      "cell_type": "code",
      "source": [
        "!wget -O images.npy https://github.com/ichatnun/BCC_data_exam2023/raw/main/image.npy\n",
        "!wget -O sensor_sens.npy https://github.com/ichatnun/BCC_data_exam2023/raw/main/sensor_sens.npy"
      ],
      "metadata": {
        "id": "Y9GNG9KW4xHV"
      },
      "execution_count": null,
      "outputs": []
    },
    {
      "cell_type": "markdown",
      "source": [
        "**คำสั่ง**\n",
        "จง load ข้อมูลจาก `images.npy` มาเก็บไว้ใน variable ชื่อ `image_multi_sens` และ `sensor_sens.npy` มาเก็บไว้ใน variable ชื่อ `sensor_sens`\n",
        "\n",
        "หากเขียนโค้ดได้ถูกต้อง เราจะมี variables 2 ตัว ดังนี้\n",
        "\n",
        "\n",
        "*   `image_multi_sens`: ข้อมูลรูปภาพที่เก็บมาจากเครื่อง MRI ที่เป็นภาพสมอง โดยจะมีทั้งหมด 32 ภาพ โดยแต่ละภาพคือข้อมูลที่เก็บมาจาก sensor แต่ละตัว\n",
        "\n",
        "\n",
        "*   `sensor_sens`: ข้อมูล sensor sensitivity ที่บ่งบอกว่า sensor ตัวไหนมีความ sensitive กับบริเวณไหนในภาพมากหรือน้อยแค่ไหน\n",
        "\n",
        "\n",
        "\n"
      ],
      "metadata": {
        "id": "QQ7fC-dK6gTu"
      }
    },
    {
      "cell_type": "code",
      "source": [
        "# ผู้เข้าทดสอบสามารถแก้โค้ดใน cell นี้ได้\n",
        "\n",
        "sensor_sens = ..."
      ],
      "metadata": {
        "id": "bEM50glxhQq8"
      },
      "execution_count": null,
      "outputs": []
    },
    {
      "cell_type": "markdown",
      "source": [
        "ทางเจ้าหน้าที่ที่เก็บข้อมูล MRI มาให้เราแจ้งมาว่าทุก element ในข้อมูล `image_multi_sens` และข้อมูล `sensor_sens` ต้องเป็นข้อมูลเชิงซ้อนประเภท complex64\n",
        "\n",
        "**คำสั่ง** เขียนโค้ดที่ print ออกมาดูว่าข้อมูลของเราเป็น complex64 จริง"
      ],
      "metadata": {
        "id": "DqAyjxd1-1MI"
      }
    },
    {
      "cell_type": "code",
      "source": [
        "# ผู้เข้าทดสอบสามารถแก้โค้ดใน cell นี้ได้\n",
        "print(...)\n",
        "print(...)"
      ],
      "metadata": {
        "id": "zG9zOvvD257S"
      },
      "execution_count": null,
      "outputs": []
    },
    {
      "cell_type": "markdown",
      "source": [
        "นอกจากนี้ เจ้าหน้าที่ได้แจ้งมาว่าทุก element ในข้อมูล `image_multi_sens` และ ข้อมูล `sensor_sens` จะมีค่า magnitude ไม่น้อยกว่า 0 และไม่มากกว่า 1\n",
        "\n",
        "**คำสั่ง** เขียนโค้ดเพื่อตรวจสอบว่าข้อมูลของเราทั้งสองข้อมูลมีค่า magnitude ไม่น้อยกว่า 0 และไม่มากกว่า 1 \n",
        "\n",
        "**คำแนะนำ** เราสามารถใช้ `numpy.abs` ในการคำนวณค่า magnitude ได้"
      ],
      "metadata": {
        "id": "9YCw2OlA__rX"
      }
    },
    {
      "cell_type": "code",
      "source": [
        "# ผู้เข้าทดสอบสามารถแก้โค้ดใน cell นี้ได้\n"
      ],
      "metadata": {
        "id": "ShbY3DAr_tWX"
      },
      "execution_count": null,
      "outputs": []
    },
    {
      "cell_type": "markdown",
      "source": [
        "**คำสั่ง** จงตรวจสอบ shape ของข้อมูล `image_multi_sens` และ ข้อมูล `sensor_sens`"
      ],
      "metadata": {
        "id": "LunCC0y8-Kii"
      }
    },
    {
      "cell_type": "code",
      "source": [
        "# ผู้เข้าทดสอบสามารถแก้โค้ดใน cell นี้ได้\n"
      ],
      "metadata": {
        "id": "Nq4bSrDehpvH"
      },
      "execution_count": null,
      "outputs": []
    },
    {
      "cell_type": "markdown",
      "source": [
        "ข้อมูล `image_multi_sens` กับ `sensor_sens` ควรจะมี shape เหมือนกัน\n",
        "\n",
        "**คำสั่ง** จงเขียนโค้ดที่ปรับแก้การจัดเรียงมิติของข้อมูล `image_multi_sens` ให้มี shape เหมือน `sensor_sens` และเขียนโค้ดสำหรับ confirm ว่าได้ทำการปรับแก้อย่างถูกต้องแล้ว"
      ],
      "metadata": {
        "id": "FphDukTMYjTz"
      }
    },
    {
      "cell_type": "code",
      "source": [
        "# ผู้เข้าทดสอบสามารถแก้โค้ดใน cell นี้ได้\n"
      ],
      "metadata": {
        "id": "wkEBZToUgrG3"
      },
      "execution_count": null,
      "outputs": []
    },
    {
      "cell_type": "markdown",
      "source": [
        "cell ถัดไปเป็นหนึ่งในวิธีสำหรับ visualize ข้อมูล image จาก sensor ตัวแรก ตัวที่ 10 ตัวที่ 20 แล้วตัวที่ 30 คู่กับตัว sensitivity ของ sensor\n",
        "\n",
        "\n",
        "\n",
        "*   หากรันโค้ดแล้วจะเห็นว่าเมื่อ sensor sensitivity มีค่าสูง (สีสว่าง) ตรงไหน ภาพสมองที่ได้รับ ก็จะมีความสว่างในบริเวณเดียวกัน ซึ่งอันนี้ก็เป็นอีกหนึ่งวิธีในการตรวจสอบข้อมูลของเราว่าเป็นไปตามที่เราคาดไว้หรือไม่\n",
        "*   ในกรณีทั่วไป หากเราต้องการ visualize ข้อมูล MRI ซึ่งมักจะเป็นจำนวนเชิงซ้อน เรามันจะนำเอา magnitude มา visualize แทน\n",
        "\n"
      ],
      "metadata": {
        "id": "j9CtynJTbFzw"
      }
    },
    {
      "cell_type": "code",
      "source": [
        "num_sensors = sensor_sens.shape[-1]\n",
        "target_sens = [0,9,19,29]\n",
        "\n",
        "fig, ax = plt.subplots(1,4)\n",
        "\n",
        "for count, idx_sensor in enumerate(target_sens):\n",
        "\n",
        "    # นำเอาภาพสมองมาประกบคู่กับภาพ sensor sensitivity\n",
        "    concat_img = np.concatenate((image_multi_sens[:,:,idx_sensor], sensor_sens[:,:,idx_sensor]), axis=0)\n",
        "    \n",
        "    # Plot magnitude ของภาพแต่ละภาพ\n",
        "    ax[count].imshow(np.abs(concat_img), cmap=\"gray\")\n",
        "    ax[count].set_axis_off()\n",
        "    ax[count].set_title(f\"Sensor {idx_sensor+1}\")\n",
        "\n",
        "plt.show()"
      ],
      "metadata": {
        "id": "cmlkWx5vacfj"
      },
      "execution_count": null,
      "outputs": []
    },
    {
      "cell_type": "markdown",
      "source": [
        "Part 2: Reconstruction\n",
        "---"
      ],
      "metadata": {
        "id": "RX3kGawbonu4"
      }
    },
    {
      "cell_type": "markdown",
      "source": [
        "ในการใช้ MRI สำหรับทำการวินิจฉัยทางการแพทย์ เราจะต้องทำการรวบรวมข้อมูลจาก sensor ทั้งหมดมารวมกันเป็นภาพเดียวก่อน\n",
        "\n",
        "ในโค้ด cell ถัดไป มีนักวิจัยสองท่านได้เขียนฟังก์ชันสำหรับการรวมภาพจาก sensor ทั้งหมด มารวมกัน"
      ],
      "metadata": {
        "id": "3bQTobsqoOvF"
      }
    },
    {
      "cell_type": "code",
      "source": [
        "# image_multi_sensors ต้องมี shape จัดเรียงเป็น (จำนวน rows, จำนวน columns, จำนวน sensors) เท่านั้น\n",
        "def combined_data_from_sensors1(image_multi_sensors):\n",
        "    image_combined = np.sum(np.abs(image_multi_sensors)**2, axis=-1)\n",
        "    image_combined /= np.max(np.abs(image_combined))\n",
        "    return image_combined\n",
        "\n",
        "# image_multi_sensors และ sensor_sensitivities ต้องมี shape จัดเรียงเป็น (จำนวน rows, จำนวน columns, จำนวน sensors) เท่านั้น\n",
        "def combined_data_from_sensors2(image_multi_sensors, sensor_sensitivities):\n",
        "    image_combined = np.sum(np.conjugate(sensor_sensitivities) * image_multi_sensors, axis=-1)\n",
        "    image_combined /= np.max(np.abs(image_combined))\n",
        "    return image_combined\n"
      ],
      "metadata": {
        "id": "AsICIwCrkoft"
      },
      "execution_count": null,
      "outputs": []
    },
    {
      "cell_type": "markdown",
      "source": [
        "**คำสั่ง** จงเรียกใช้ฟังก์ชัน `combined_data_from_sensors1` จากนักวิจัยท่านแรก มารวมภาพจากหลาย sensor เข้าด้วยกัน โดยเก็บข้อมูลไว้ใน variable ที่มีชื่อว่า `image_combined1` และเขียนโค้ด print ดูว่าข้อมูลที่ได้มี shape เหมาะสม"
      ],
      "metadata": {
        "id": "S7QUQh28pT96"
      }
    },
    {
      "cell_type": "code",
      "source": [
        "# ผู้เข้าทดสอบสามารถแก้โค้ดใน cell นี้ได้\n"
      ],
      "metadata": {
        "id": "lSqBmPbVpTcW"
      },
      "execution_count": null,
      "outputs": []
    },
    {
      "cell_type": "markdown",
      "source": [
        "**คำสั่ง** จงนำเอาภาพที่ได้รับจากการรวมข้อมูลด้วยเทคนิคจากนักวิจัยท่านแรกมา visualize ในรูปแบบที่เหมาะสมต่อการส่งไปให้รังสีแพทย์นำไปอ่านผลได้ โดยไม่ต้องปรับแก้อะไรในรูป (เช่น ความสว่าง) เพิ่มเติม เพื่อให้ประหยัดเวลาการทำงานของแพทย์มากที่สุด"
      ],
      "metadata": {
        "id": "_wL5KnmwqX53"
      }
    },
    {
      "cell_type": "code",
      "source": [
        "# ผู้เข้าทดสอบสามารถแก้โค้ดใน cell นี้ได้\n"
      ],
      "metadata": {
        "id": "PJHUcXGmmPkv"
      },
      "execution_count": null,
      "outputs": []
    },
    {
      "cell_type": "markdown",
      "source": [
        "**คำสั่ง** จงเรียกใช้ฟังก์ชัน `combined_data_from_sensors2` จากนักวิจัยท่านที่ 2 มารวมภาพจากหลาย sensor เข้าด้วยกัน โดยเก็บข้อมูลไว้ใน variable ที่มีชื่อว่า `image_combined2` และเขียนโค้ด print ดูว่าข้อมูลที่ได้มี shape เหมาะสม"
      ],
      "metadata": {
        "id": "6bqHeYArsn3e"
      }
    },
    {
      "cell_type": "code",
      "source": [
        "# ผู้เข้าทดสอบสามารถแก้โค้ดใน cell นี้ได้\n"
      ],
      "metadata": {
        "id": "qlFMPAJdsngN"
      },
      "execution_count": null,
      "outputs": []
    },
    {
      "cell_type": "markdown",
      "source": [
        "**คำสั่ง** จงนำเอาภาพที่ได้รับจากการรวมข้อมูลด้วยเทคนิคจากนักวิจัยท่านที่ 2 มา visualize ในรูปแบบที่เหมาะสมต่อการส่งไปให้รังสีแพทย์นำไปอ่านผลได้ โดยไม่ต้องปรับแก้อะไรในรูป (เช่น ความสว่าง) เพิ่มเติม เพื่อให้ประหยัดเวลาการทำงานของแพทย์มากที่สุด"
      ],
      "metadata": {
        "id": "0mgqL1SgtH0m"
      }
    },
    {
      "cell_type": "code",
      "source": [
        "# ผู้เข้าทดสอบสามารถแก้โค้ดใน cell นี้ได้\n"
      ],
      "metadata": {
        "id": "u2xIQzeAmT3o"
      },
      "execution_count": null,
      "outputs": []
    },
    {
      "cell_type": "markdown",
      "source": [
        "Part 3: Evaluation\n",
        "---"
      ],
      "metadata": {
        "id": "IafsKiH5vMjP"
      }
    },
    {
      "cell_type": "markdown",
      "source": [
        "นักวิจัยท่านที่ 3 ได้ทำการนำเอาข้อมูลจากหลาย sensors มารวมกันโดยใช้เทคนิคอะไรบางอย่าง และได้เก็บผลไว้ในไฟล์ที่อยู่ใน https://github.com/ichatnun/BCC_data_exam2023/raw/main/x_recon_mystery.npy\n",
        "\n",
        "**คำสั่ง** จงเขียนโค้ดสำหรับ download ไฟล์มา และทำการ load เข้ามาเก็บไว้ใน variable ที่ชื่อว่า `image_combined3`"
      ],
      "metadata": {
        "id": "de6ZetgqtLgP"
      }
    },
    {
      "cell_type": "code",
      "source": [
        "# ผู้เข้าทดสอบสามารถแก้โค้ดใน cell นี้ได้\n"
      ],
      "metadata": {
        "id": "jcKP_ekbswiD"
      },
      "execution_count": null,
      "outputs": []
    },
    {
      "cell_type": "markdown",
      "source": [
        "นักวิจัยท่านที่ 3 บอกว่าเค้าใช้เทคนิคในการรวมข้อมูลภาพจากหลาย sensors เข้าด้วยกันเป็นภาพเดียว ในลักษณะเดียวกันกับที่นักวิจัยท่านที่ 2 ทำไว้เลย\n",
        "\n",
        "**คำสั่ง** จงเขียนโค้ดสำหรับตรวจสอบดูว่าข้อมูลภาพที่นักวิจัยท่านที่ 3 ให้มา (`image_combined3`) เหมือนกับข้อมูลภาพที่เราได้จากการเรียกใช้ `combined_data_from_sensors2` ของนักวิจัยท่านที่ 2 หรือไม่ โดยนำเสนอมาอย่างน้อย 2 วิธี พร้อมทั้งบอกว่าทำไมถึงเลือกวิธีเหล่านั้น\n",
        "\n",
        "**หมายเหตุ**\n",
        "\n",
        "\n",
        "*   ถ้าหากเราเลือกใช้วิธีที่จะคำนวณออกมาเป็นตัวเลข จงเขียนโค้ดที่ print ตัวเลขเหล่านั้นออกมาด้วย\n",
        "*   ถ้าหากเราเลือกวิธีที่ใช้การ plot อะไรบางอย่าง จงเขียนโค้ดที่จะโชว์สิ่งที่เรา plot เหล่านั้นมาด้วย\n",
        "*   เราสามารถตีความวลีที่ว่า **ข้อมูลภาพเหมือนกัน** ได้หลายแบบ โดยทางผู้จัดงานต้องการให้ลองตีความวลีนี้ โดยการคำนึงถึงรูปแบบการใช้งานจริงในหลาย ๆ กรณี เช่น \n",
        "\n",
        "  *   กรณีที่ 1 ข้อมูลภาพนี้จะถูกนำไปใช้ต่อโดยแพทย์ ซึ่งแพทย์จะใช้ตาเปล่าดูเป็นหลัก\n",
        "\n",
        "  *   กรณีที่ 2 แพทย์จะนำเอาข้อมูลนี้ไปให้วิศวกรคอมพิวเตอร์ไปคำนวณข้อมูลทางสถิติของภาพนั้นต่อ เพื่อให้สรุปได้เป็นได้ตัวเลขออกมา แล้วจะนำเอาตัวเลขที่สรุปออกมาได้ไปใช้วินิจฉัยร่วมกับภาพที่ได้จากกรณีที่ 1\n",
        "\n",
        "\n",
        "\n",
        "\n",
        "\n",
        "\n",
        "\n",
        "\n",
        "\n",
        "\n"
      ],
      "metadata": {
        "id": "NKO8mP1MuZdb"
      }
    },
    {
      "cell_type": "code",
      "source": [
        "# ผู้เข้าทดสอบสามารถแก้โค้ดใน cell นี้ได้\n",
        "\n",
        "## วิธีที่ 1\n",
        "\n",
        "\n",
        "## วิธีที่ 2\n",
        "\n",
        "\n",
        "## วิธีอื่น ๆ (ถ้ามี)"
      ],
      "metadata": {
        "id": "DsD5jQ4EuW34"
      },
      "execution_count": null,
      "outputs": []
    }
  ]
}
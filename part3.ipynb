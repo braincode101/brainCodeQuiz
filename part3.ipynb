{
 "cells": [
  {
   "cell_type": "markdown",
   "metadata": {
    "id": "t-ClYHdm12ZA"
   },
   "source": [
    "# แบบทดสอบพิเศษ\n",
    "\n",
    "**สำคัญ** ข้อสอบส่วนนี้เป็นข้อสอบส่วนที่ผู้สมัครเข้าร่วมโครงการ Brain Code Camp จะทำหรือไม่ทำก็ได้ ทีมผู้ตรวจจะนำเอาข้อสอบส่วนนี้มาพิจารณาในกรณีที่มีความจำเป็นต้องเปรียบเทียบผู้เข้าสมัครที่มีคุณสมบัติในระดับที่ใกล้เคียงกันมาก ๆ เท่านั้น ตัวอย่างเช่น สมมติว่า Brain Code Camp เปิดรับผู้เข้าร่วมโครงการ 50 คน หากจัดลำดับผู้เข้าสมัครตามคุณสมบัติจากมากไปน้อย โดยอ้างอิงจากผลงานใน part 1 (Neuroscience x Coding) และ part 2 (MRI Coding) พบว่ามีผู้เข้าสมัครที่มีคุณสมบัติดีเป็นอันดับที่ 50 เป็นจำนวน 3 คน ทีมงานจะนำเอาคำตอบจาก **แบบทดสอบพิเศษ** นี้มาใช้ในการเลือกผู้สมัคร 1 คนจาก 3 คนนี้ (ในขณะที่ผู้สมัครที่มีคุณสมบัติสูงเป็นลำดับ 1 ถึง 49 และผู้สมัครที่เหลือที่ไม่ใช่ 3 คนนี้จะไม่ได้ถูกนำเอา **แบบทดสอบพิเศษ** มาพิจารณาเลย)\n",
    "\n"
   ]
  },
  {
   "cell_type": "markdown",
   "metadata": {
    "id": "P9zQu-TD2XM0"
   },
   "source": [
    "# ส่วนที่ 1: Neuroscience+"
   ]
  },
  {
   "cell_type": "markdown",
   "metadata": {
    "id": "B2u8mZ4J18v5"
   },
   "source": [
    "## 1. \n",
    "บริเวณใดทำหน้าที่เกี่ยวข้องกับการมองเห็น\n",
    "\n",
    "![essebtial_anatomy](https://drive.google.com/uc?id=18hf0NXsDNXTMqFWQb6IdPmui0J7o6gsB)"
   ]
  },
  {
   "cell_type": "code",
   "execution_count": null,
   "metadata": {
    "id": "DYAzvQJq18VM"
   },
   "outputs": [],
   "source": [
    "neuro_opt1_answ = []; # <- ตอบคำถามของท่านลงใน [] ที่นี่\n",
    "\n",
    "#  ตัวอย่างเช่น ถ้าต้องการตอบว่า 1 -> ให้เราใส่ คำตอบเป็น neuro_opt1_answ = [1]"
   ]
  },
  {
   "cell_type": "markdown",
   "metadata": {
    "id": "LG4iqLTg2HQo"
   },
   "source": [
    "## 2.\n",
    "หากท่านต้องการศึกษาว่า neuron ในสมองส่วนของการได้ยิน มีการตอบสนองต่อเสียงที่จำเพาะรูปแบบใด ท่านจะใช้เครื่องมือใดบ้าง (ตอบได้มากกว่า 1 ข้อ)\n",
    "\n",
    "1. single neuron recording\n",
    "2. Electroencephalogram (EEG)\n",
    "3. Functional magnetic resonance imaging (fMRI)\n",
    "4. Transcranial magnetic current stimulation (TMS)\n",
    "5. Transcranial direct current stimulation (tDCS)\n",
    "6. lesion study\n",
    "\n"
   ]
  },
  {
   "cell_type": "code",
   "execution_count": null,
   "metadata": {
    "id": "svj0t3v02Jyq"
   },
   "outputs": [],
   "source": [
    "neuro_opt2_answ = []; # <- ตอบคำถามของท่านลงใน [] ที่นี่ โดยเฉพาะ\n",
    "\n",
    "# ตัวอย่างเช่น ถ้าต้องการตอบว่า 2.EEG, 3.fMRI  -> ให้เราใส่คำตอบเป็น neuro_opt2_answ = [2,3]"
   ]
  },
  {
   "cell_type": "markdown",
   "metadata": {
    "id": "YaqIj9uU2OX4"
   },
   "source": [
    "## 3.\n",
    "หากท่านต้องการทราบว่าสมองมนุษย์ตำแหน่งใดบ้างที่เกี่ยวข้องกับการแยกแยะระหว่างรูปภาพน้องหมาและน้องแมว เครื่องมือใดจะสามารถตอบคำถามนี้ได้ดีที่สุด\n",
    "\n",
    "1. single neuron recording\n",
    "2. Electroencephalogram (EEG)\n",
    "3. Functional magnetic resonance imaging (fMRI)\n",
    "4. Transcranial magnetic current stimulation (TMS)\n",
    "5. lesion study\n",
    "\n"
   ]
  },
  {
   "cell_type": "code",
   "execution_count": null,
   "metadata": {
    "id": "4Ai1Q9dR2NVh"
   },
   "outputs": [],
   "source": [
    "neuro_opt3_answ = [];  # <- ตอบคำถามของท่านลงใน [] ที่นี่ โดยเฉพาะ\n",
    "\n",
    "# ตัวอย่างเช่น ถ้าต้องการตอบว่า 1 คือคำตอบที่ถูกต้องที่สุด -> ให้เราใส่คำตอบเป็น neuro_opt3_answ = [1]"
   ]
  },
  {
   "cell_type": "markdown",
   "metadata": {
    "id": "lnkL_1wu2Rh8"
   },
   "source": [
    "## 4.\n",
    "หากท่านต้องการทราบว่าสมองมนุษย์ใช้เวลานานเท่าไรในการแยกแยะระหว่างรูปภาพน้องหมาและน้องแมว เครื่องมือใดจะสามารถตอบคำถามนี้ได้ดีที่สุด\n",
    "\n",
    "1. single neuron recording\n",
    "2. Electroencephalogram (EEG)\n",
    "3. Functional magnetic resonance imaging (fMRI)\n",
    "4. Transcranial magnetic current stimulation (TMS)\n",
    "5. lesion study\n"
   ]
  },
  {
   "cell_type": "code",
   "execution_count": null,
   "metadata": {
    "id": "VD86gASw2REB"
   },
   "outputs": [],
   "source": [
    "neuro_opt4_answ = []; # <- ตอบคำถามของท่านลงใน [] ที่นี่ โดยเฉพาะ\n",
    "\n",
    "# ตัวอย่างเช่น ถ้าต้องการตอบว่า 1 คือคำตอบที่ถูกต้องที่สุด -> ให้เราใส่คำตอบเป็น neuro_opt4_answ = [1]"
   ]
  },
  {
   "cell_type": "markdown",
   "metadata": {
    "id": "-CDaOkAyYa9W"
   },
   "source": [
    "---\n",
    "\n",
    "# ส่วนที่ 2: Essay\n",
    "\n",
    "เลือกตอบ **1 ข้อ**จากโจทย์ต่อไปนี้"
   ]
  },
  {
   "cell_type": "markdown",
   "metadata": {
    "id": "LIVT-eCmNo8k"
   },
   "source": [
    "##1.\n",
    "ยกตัวอย่างแบบจำลองทางประสาทศาสตร์ที่เกี่ยวข้องกับความคิด (computational model of the mind) และอธิบายความสำคัญของแบบจำลองนั้นสั้นๆใน text box ด้านล่าง (ไม่เกิน 500 คำ)"
   ]
  },
  {
   "cell_type": "markdown",
   "metadata": {
    "id": "OEig0G70O57m"
   },
   "source": [
    "*ตอบคำถามลงในที่ว่างด้านล่างนี้*"
   ]
  },
  {
   "cell_type": "markdown",
   "metadata": {
    "id": "nCZH4ovQQFB0"
   },
   "source": [
    "## 2.\n",
    "สมมติว่าท่านเป็นนักวิจัยที่ต้องการศึกษาสัญญาณสมองที่เกี่ยวข้องกับโรคซึมเศร้า ในโจทย์คำถามแต่ละข้อต่อไปนี้ ควรจะใช้ machine learning ประเภทไหน เพราะอะไร? (เขียนลงใน text box ด้านล่าง ข้อละไม่เกิน 500 คำ)\n",
    "\n",
    "3.1 การค้นหาว่าผู้ป่วยโรคซึมเศร้าสามารถแบ่งออกได้เป็นกลุ่มย่อยๆได้อีกหรือไม่ \n",
    "\n",
    "3.2 การพยากรณ์ว่าผู้ป่วยโรคซึมเศร้ารายใดจะตอบสนองต่อการรักษาด้วยยา "
   ]
  },
  {
   "cell_type": "markdown",
   "metadata": {
    "id": "9tn3AuReStLs"
   },
   "source": [
    "*ตอบคำถามลงในที่ว่างด้านล่างนี้*"
   ]
  },
  {
   "cell_type": "markdown",
   "metadata": {
    "id": "vFdmTd-x7COa"
   },
   "source": [
    "## 3.\n",
    "\n",
    "ในสถานการณ์จำลอง (thought experiment) ที่เราสามารถทำอะไรก็ได้กับมนุษย์ \n",
    "ถ้าเราอยากจะพิสูจน์ว่า neuron ในสมองส่วน hippocampus ของคนเราทำหน้าที่เหมือนเป็นทั้งแผนที่บนโลก (world map) และแผนที่ระหว่าง concept ต่างๆ (conceptual map) หรือไม่ เราจะต้องออกแบบการทดลองอย่างไร \n",
    "\n",
    "(ไม่มีข้อจำกัดใดๆทั้งสิ้น ทั้งในด้านเทคโนโลยี, เวลา, ทรัพยากร, ข้อจำกัดด้านกฎหมายและข้อบังคับใดๆ) \n",
    "\n",
    "กรุณาเขียนรายละเอียดของการทดลองให้มากที่สุดเท่าที่จะทำได้ (เช่น  ทำในใคร, จำนวนเท่าไร, เครื่องมือที่สามารถทำอะไรได้, ให้คนทำอะไรบ้าง, วัดผลตัวแปรต่างๆอย่างไร, มีแผนวิเคราะห์อย่างไร)\n",
    "\n",
    "(เขียนลงใน text box ด้านล่าง ข้อละไม่เกิน 1,500 คำ)\n"
   ]
  },
  {
   "cell_type": "markdown",
   "metadata": {
    "id": "gPbRHoi97IB_"
   },
   "source": [
    "*ตอบคำถามลงในที่ว่างด้านล่างนี้*"
   ]
  }
 ],
 "metadata": {
  "colab": {
   "provenance": []
  },
  "kernelspec": {
   "display_name": "Python 3 (ipykernel)",
   "language": "python",
   "name": "python3"
  },
  "language_info": {
   "codemirror_mode": {
    "name": "ipython",
    "version": 3
   },
   "file_extension": ".py",
   "mimetype": "text/x-python",
   "name": "python",
   "nbconvert_exporter": "python",
   "pygments_lexer": "ipython3",
   "version": "3.10.8"
  }
 },
 "nbformat": 4,
 "nbformat_minor": 1
}
